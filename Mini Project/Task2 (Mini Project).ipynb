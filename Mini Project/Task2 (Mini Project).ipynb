{
 "cells": [
  {
   "cell_type": "code",
   "execution_count": 1,
   "metadata": {},
   "outputs": [],
   "source": [
    "import pandas as pd\n",
    "df_activities=pd.read_csv(\"C:/Users/HP/Downloads/cardioactivities/datasets/cardioActivities.csv\",parse_dates=True,index_col=\"Date\")"
   ]
  },
  {
   "cell_type": "code",
   "execution_count": 2,
   "metadata": {},
   "outputs": [],
   "source": [
    "cols_to_drop=df_activities.drop([\"Notes\",\"Route Name\",\"Friend's Tagged\"],axis=1,inplace=True)"
   ]
  },
  {
   "cell_type": "code",
   "execution_count": 3,
   "metadata": {},
   "outputs": [
    {
     "data": {
      "text/plain": [
       "Running    459\n",
       "Cycling     29\n",
       "Walking     18\n",
       "Other        2\n",
       "Name: Type, dtype: int64"
      ]
     },
     "execution_count": 3,
     "metadata": {},
     "output_type": "execute_result"
    }
   ],
   "source": [
    "df_activities[\"Type\"].value_counts()"
   ]
  },
  {
   "cell_type": "code",
   "execution_count": 4,
   "metadata": {},
   "outputs": [],
   "source": [
    "df_activities[\"Type\"].replace({\"Other\": \"Unicycling\"}, inplace=True)"
   ]
  },
  {
   "cell_type": "code",
   "execution_count": 5,
   "metadata": {},
   "outputs": [
    {
     "data": {
      "text/plain": [
       "Activity Id                   0\n",
       "Type                          0\n",
       "Distance (km)                 0\n",
       "Duration                      0\n",
       "Average Pace                  0\n",
       "Average Speed (km/h)          0\n",
       "Calories Burned               0\n",
       "Climb (m)                     0\n",
       "Average Heart Rate (bpm)    214\n",
       "GPX File                      4\n",
       "dtype: int64"
      ]
     },
     "execution_count": 5,
     "metadata": {},
     "output_type": "execute_result"
    }
   ],
   "source": [
    "df_activities.isnull().sum()"
   ]
  }
 ],
 "metadata": {
  "kernelspec": {
   "display_name": "Python 3",
   "language": "python",
   "name": "python3"
  },
  "language_info": {
   "codemirror_mode": {
    "name": "ipython",
    "version": 3
   },
   "file_extension": ".py",
   "mimetype": "text/x-python",
   "name": "python",
   "nbconvert_exporter": "python",
   "pygments_lexer": "ipython3",
   "version": "3.7.6"
  }
 },
 "nbformat": 4,
 "nbformat_minor": 4
}
