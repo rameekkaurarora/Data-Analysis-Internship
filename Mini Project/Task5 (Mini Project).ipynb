{
 "cells": [
  {
   "cell_type": "code",
   "execution_count": 2,
   "metadata": {},
   "outputs": [],
   "source": [
    "import pandas as pd\n",
    "df_activities=pd.read_csv(\"C:/Users/HP/Downloads/cardioactivities/datasets/cardioActivities.csv\",parse_dates=True,index_col=\"Date\")\n",
    "cols_to_drop=df_activities.drop([\"Notes\",\"Route Name\",\"Friend's Tagged\"],axis=1,inplace=True)\n",
    "df_run=df_activities.loc[df_activities['Type'] == 'Running'].copy()"
   ]
  },
  {
   "cell_type": "code",
   "execution_count": 3,
   "metadata": {},
   "outputs": [],
   "source": [
    "runs_subset_2015_2018=df_run.loc[\"20190101\":\"20150101\"]"
   ]
  },
  {
   "cell_type": "code",
   "execution_count": 4,
   "metadata": {},
   "outputs": [
    {
     "data": {
      "text/html": [
       "<div>\n",
       "<style scoped>\n",
       "    .dataframe tbody tr th:only-of-type {\n",
       "        vertical-align: middle;\n",
       "    }\n",
       "\n",
       "    .dataframe tbody tr th {\n",
       "        vertical-align: top;\n",
       "    }\n",
       "\n",
       "    .dataframe thead th {\n",
       "        text-align: right;\n",
       "    }\n",
       "</style>\n",
       "<table border=\"1\" class=\"dataframe\">\n",
       "  <thead>\n",
       "    <tr style=\"text-align: right;\">\n",
       "      <th></th>\n",
       "      <th>Distance (km)</th>\n",
       "      <th>Average Speed (km/h)</th>\n",
       "      <th>Calories Burned</th>\n",
       "      <th>Climb (m)</th>\n",
       "      <th>Average Heart Rate (bpm)</th>\n",
       "    </tr>\n",
       "    <tr>\n",
       "      <th>Date</th>\n",
       "      <th></th>\n",
       "      <th></th>\n",
       "      <th></th>\n",
       "      <th></th>\n",
       "      <th></th>\n",
       "    </tr>\n",
       "  </thead>\n",
       "  <tbody>\n",
       "    <tr>\n",
       "      <th>2015-12-31</th>\n",
       "      <td>13.602805</td>\n",
       "      <td>10.998902</td>\n",
       "      <td>932.906138</td>\n",
       "      <td>160.170732</td>\n",
       "      <td>143.231884</td>\n",
       "    </tr>\n",
       "    <tr>\n",
       "      <th>2016-12-31</th>\n",
       "      <td>11.411667</td>\n",
       "      <td>10.837778</td>\n",
       "      <td>796.152777</td>\n",
       "      <td>133.194444</td>\n",
       "      <td>143.301587</td>\n",
       "    </tr>\n",
       "    <tr>\n",
       "      <th>2017-12-31</th>\n",
       "      <td>12.935176</td>\n",
       "      <td>10.959059</td>\n",
       "      <td>914.164706</td>\n",
       "      <td>169.376471</td>\n",
       "      <td>145.277108</td>\n",
       "    </tr>\n",
       "    <tr>\n",
       "      <th>2018-12-31</th>\n",
       "      <td>13.339063</td>\n",
       "      <td>10.777969</td>\n",
       "      <td>952.359375</td>\n",
       "      <td>191.218750</td>\n",
       "      <td>148.258065</td>\n",
       "    </tr>\n",
       "  </tbody>\n",
       "</table>\n",
       "</div>"
      ],
      "text/plain": [
       "            Distance (km)  Average Speed (km/h)  Calories Burned   Climb (m)  \\\n",
       "Date                                                                           \n",
       "2015-12-31      13.602805             10.998902       932.906138  160.170732   \n",
       "2016-12-31      11.411667             10.837778       796.152777  133.194444   \n",
       "2017-12-31      12.935176             10.959059       914.164706  169.376471   \n",
       "2018-12-31      13.339063             10.777969       952.359375  191.218750   \n",
       "\n",
       "            Average Heart Rate (bpm)  \n",
       "Date                                  \n",
       "2015-12-31                143.231884  \n",
       "2016-12-31                143.301587  \n",
       "2017-12-31                145.277108  \n",
       "2018-12-31                148.258065  "
      ]
     },
     "execution_count": 4,
     "metadata": {},
     "output_type": "execute_result"
    }
   ],
   "source": [
    "runs_subset_2015_2018.resample('A').mean()"
   ]
  },
  {
   "cell_type": "code",
   "execution_count": 6,
   "metadata": {},
   "outputs": [
    {
     "data": {
      "text/plain": [
       "12.518175542406315"
      ]
     },
     "execution_count": 6,
     "metadata": {},
     "output_type": "execute_result"
    }
   ],
   "source": [
    "runs_subset_2015_2018['Distance (km)'].resample('W').mean().mean()"
   ]
  },
  {
   "cell_type": "code",
   "execution_count": 7,
   "metadata": {},
   "outputs": [],
   "source": [
    "weekly_counts_average=runs_subset_2015_2018['Distance (km)'].resample('W').count().mean()"
   ]
  },
  {
   "cell_type": "code",
   "execution_count": 8,
   "metadata": {},
   "outputs": [
    {
     "data": {
      "text/plain": [
       "1.5"
      ]
     },
     "execution_count": 8,
     "metadata": {},
     "output_type": "execute_result"
    }
   ],
   "source": [
    "weekly_counts_average"
   ]
  },
  {
   "cell_type": "code",
   "execution_count": null,
   "metadata": {},
   "outputs": [],
   "source": []
  }
 ],
 "metadata": {
  "kernelspec": {
   "display_name": "Python 3",
   "language": "python",
   "name": "python3"
  },
  "language_info": {
   "codemirror_mode": {
    "name": "ipython",
    "version": 3
   },
   "file_extension": ".py",
   "mimetype": "text/x-python",
   "name": "python",
   "nbconvert_exporter": "python",
   "pygments_lexer": "ipython3",
   "version": "3.7.6"
  }
 },
 "nbformat": 4,
 "nbformat_minor": 4
}
