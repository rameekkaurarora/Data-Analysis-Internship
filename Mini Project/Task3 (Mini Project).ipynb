{
 "cells": [
  {
   "cell_type": "code",
   "execution_count": 28,
   "metadata": {},
   "outputs": [],
   "source": [
    "import pandas as pd\n",
    "df_activities=pd.read_csv(\"C:/Users/HP/Downloads/cardioactivities/datasets/cardioActivities.csv\",parse_dates=True,index_col=\"Date\")\n",
    "cols_to_drop=df_activities.drop([\"Notes\",\"Route Name\",\"Friend's Tagged\"],axis=1,inplace=True)"
   ]
  },
  {
   "cell_type": "code",
   "execution_count": 29,
   "metadata": {},
   "outputs": [],
   "source": [
    "df_cycle=df_activities.loc[df_activities['Type'] == 'Cycling'].copy()"
   ]
  },
  {
   "cell_type": "code",
   "execution_count": 30,
   "metadata": {},
   "outputs": [],
   "source": [
    "avg_hr_cycle=df_cycle[\"Average Heart Rate (bpm)\"].mean()"
   ]
  },
  {
   "cell_type": "code",
   "execution_count": 31,
   "metadata": {},
   "outputs": [
    {
     "data": {
      "text/plain": [
       "Date\n",
       "2018-10-06 16:45:02     79.0\n",
       "2018-09-16 14:55:03    118.0\n",
       "2018-09-01 17:06:15    122.0\n",
       "2018-08-28 18:44:33    111.0\n",
       "2018-08-25 17:18:32    124.0\n",
       "2017-09-22 12:27:14    124.0\n",
       "2017-08-17 18:36:00    138.0\n",
       "2017-05-01 17:38:35    135.0\n",
       "2016-10-03 11:47:16    126.0\n",
       "2016-09-10 17:13:51    136.0\n",
       "2016-09-04 17:08:28    134.0\n",
       "2016-08-27 17:08:38    134.0\n",
       "2016-08-20 15:43:49    138.0\n",
       "2016-08-17 17:17:09    122.0\n",
       "2016-05-22 15:31:06    124.0\n",
       "2015-10-18 15:43:06    124.0\n",
       "2015-08-23 17:35:47    124.0\n",
       "2015-08-15 18:46:21    124.0\n",
       "2015-08-01 18:40:14    124.0\n",
       "2015-06-21 17:53:46    124.0\n",
       "2015-06-14 17:03:23    124.0\n",
       "2015-06-06 18:30:39    124.0\n",
       "2015-05-31 04:02:00    124.0\n",
       "2015-05-23 19:07:40    124.0\n",
       "2015-05-01 18:05:38    125.0\n",
       "2014-08-29 18:56:02    124.0\n",
       "2013-05-09 17:24:19    124.0\n",
       "2013-05-05 14:26:37    124.0\n",
       "2013-04-28 17:26:52    124.0\n",
       "Name: Average Heart Rate (bpm), dtype: float64"
      ]
     },
     "execution_count": 31,
     "metadata": {},
     "output_type": "execute_result"
    }
   ],
   "source": [
    "df_cycle[\"Average Heart Rate (bpm)\"].fillna(int(avg_hr_cycle))"
   ]
  },
  {
   "cell_type": "code",
   "execution_count": 32,
   "metadata": {},
   "outputs": [
    {
     "data": {
      "text/plain": [
       "Activity Id                   0\n",
       "Type                          0\n",
       "Distance (km)                 0\n",
       "Duration                      0\n",
       "Average Pace                  0\n",
       "Average Speed (km/h)          0\n",
       "Calories Burned               0\n",
       "Climb (m)                     0\n",
       "Average Heart Rate (bpm)    214\n",
       "GPX File                      4\n",
       "dtype: int64"
      ]
     },
     "execution_count": 32,
     "metadata": {},
     "output_type": "execute_result"
    }
   ],
   "source": [
    "df_run=df_activities.loc[df_activities['Type'] == 'Running'].copy()\n",
    "df_activities.isnull().sum()"
   ]
  },
  {
   "cell_type": "code",
   "execution_count": null,
   "metadata": {},
   "outputs": [],
   "source": []
  }
 ],
 "metadata": {
  "kernelspec": {
   "display_name": "Python 3",
   "language": "python",
   "name": "python3"
  },
  "language_info": {
   "codemirror_mode": {
    "name": "ipython",
    "version": 3
   },
   "file_extension": ".py",
   "mimetype": "text/x-python",
   "name": "python",
   "nbconvert_exporter": "python",
   "pygments_lexer": "ipython3",
   "version": "3.7.6"
  }
 },
 "nbformat": 4,
 "nbformat_minor": 4
}
